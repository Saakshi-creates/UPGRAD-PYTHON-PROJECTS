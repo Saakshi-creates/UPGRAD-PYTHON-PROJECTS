{
 "cells": [
  {
   "cell_type": "markdown",
   "id": "50c0b5ad-b778-4883-957b-2ec908eca322",
   "metadata": {},
   "source": [
    "# PROJECT-6 (NUMBER GUESSING)\n",
    "\n",
    "## SAAKSHI SRIVASTAVA\n",
    "## RK20SSA04\n",
    "## 12016982"
   ]
  },
  {
   "cell_type": "code",
   "execution_count": 1,
   "id": "988b51a6-6932-4bf7-9466-ad175e1c668b",
   "metadata": {},
   "outputs": [
    {
     "name": "stdout",
     "output_type": "stream",
     "text": [
      "Enter lower bound:-  1\n",
      "Enter upper bound:-  10\n"
     ]
    }
   ],
   "source": [
    "import random #importing the random module to generate a random number with the given limits\n",
    "print(\"Enter lower bound:- \",end=\" \")\n",
    "lower = int(input()) #lower bound number is taken\n",
    "print(\"Enter upper bound:- \", end=\" \")\n",
    "upper = int(input())#upperbound number is taken"
   ]
  },
  {
   "cell_type": "code",
   "execution_count": 2,
   "id": "87725420-9d5c-4af1-bb26-374f03b1ce4e",
   "metadata": {},
   "outputs": [
    {
     "name": "stdout",
     "output_type": "stream",
     "text": [
      "7 CHANCES AND YOU HAVE TO GUESS IT CORRECTLY\n",
      "Guess the number: \n",
      "4\n",
      "You guessed too high\n",
      "Guess the number: \n",
      "3\n",
      "You guessed too high\n",
      "Guess the number: \n",
      "2\n",
      "Congratulations you did it in 3 try\n"
     ]
    }
   ],
   "source": [
    "print(\"7 CHANCES AND YOU HAVE TO GUESS IT CORRECTLY\")\n",
    "random_number = random.randint(lower, upper)\n",
    "count = 6 #maximum number of tries (its given six as i started the count from 0 and not 1)\n",
    "while(count > 0):\n",
    "    print(\"Guess the number: \")\n",
    "    inp = int(input())\n",
    "    if random_number > inp:\n",
    "        print(\"You guessed too low\")\n",
    "        count-=1 #decreasing the counter for every wrong guess untill it reaches zero\n",
    "    elif random_number < inp:\n",
    "        print(\"You guessed too high\")\n",
    "        count-=1\n",
    "    elif random_number == inp:\n",
    "        print(\"Congratulations you did it in {} try\".format((7-count)))\n",
    "        break\n",
    "if count == 0: #counter reaches zero the chances are extinguished\n",
    "    print(\"Better Luck Next Time!\")"
   ]
  },
  {
   "cell_type": "code",
   "execution_count": null,
   "id": "ee843425-d066-4392-a734-2390b72cb46a",
   "metadata": {},
   "outputs": [],
   "source": []
  }
 ],
 "metadata": {
  "kernelspec": {
   "display_name": "Python 3 (ipykernel)",
   "language": "python",
   "name": "python3"
  },
  "language_info": {
   "codemirror_mode": {
    "name": "ipython",
    "version": 3
   },
   "file_extension": ".py",
   "mimetype": "text/x-python",
   "name": "python",
   "nbconvert_exporter": "python",
   "pygments_lexer": "ipython3",
   "version": "3.9.7"
  }
 },
 "nbformat": 4,
 "nbformat_minor": 5
}
