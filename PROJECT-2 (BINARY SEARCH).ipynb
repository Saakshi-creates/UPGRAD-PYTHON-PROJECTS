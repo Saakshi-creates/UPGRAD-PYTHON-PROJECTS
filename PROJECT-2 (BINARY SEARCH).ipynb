{
 "cells": [
  {
   "cell_type": "markdown",
   "metadata": {},
   "source": [
    "# PROJECT(2) BINARY CALCULATOR "
   ]
  },
  {
   "cell_type": "markdown",
   "metadata": {},
   "source": [
    "## SAAKSHI SRIVASTAVA\n",
    "\n",
    "## RK20SSA04\n",
    "\n",
    "## 12016982"
   ]
  },
  {
   "cell_type": "markdown",
   "metadata": {},
   "source": [
    "# ITERATIVE METHOD FOR SEARCHING #"
   ]
  },
  {
   "cell_type": "code",
   "execution_count": 22,
   "metadata": {},
   "outputs": [],
   "source": [
    "# Body of Binary Search function\n",
    "\n",
    "def bin_s_i(arr,key):\n",
    "    low=0\n",
    "    high=len(arr)-1\n",
    "    while(low <= high):                      # Using while loop\n",
    "        mid=low+(high-low)//2               # Calculating mid\n",
    "        if arr[mid]==key:                   # If it doesn't match the key we check if it's greater or lesser than the mid\n",
    "            return print(\"Element is found at position: \",mid)\n",
    "        elif arr[mid]>key:                  # Checking if it's lesser than the mid value\n",
    "            high=mid-1\n",
    "        else:                               # If it's not lesser then we will check the right side(the greater side)\n",
    "            low=mid+1\n",
    "    return print(\"The entered key is not present in the array.\")"
   ]
  },
  {
   "cell_type": "markdown",
   "metadata": {},
   "source": [
    "# MAIN BODY FOR CALLING FUNCTION #"
   ]
  },
  {
   "cell_type": "code",
   "execution_count": 28,
   "metadata": {},
   "outputs": [
    {
     "name": "stdout",
     "output_type": "stream",
     "text": [
      "Enter the value of the key that you want to search: 78\n",
      "Element is found at position:  14\n"
     ]
    }
   ],
   "source": [
    "# Importing Random function\n",
    "import random\n",
    "values=random.choice(range(1,101))\n",
    "list_values=[i for i in range(values,101,2)]\n",
    "key=int(input(\"Enter the value of the key that you want to search: \"))\n",
    "bin_s_i(list_values,key)"
   ]
  },
  {
   "cell_type": "code",
   "execution_count": null,
   "metadata": {},
   "outputs": [],
   "source": []
  }
 ],
 "metadata": {
  "kernelspec": {
   "display_name": "Python 3",
   "language": "python",
   "name": "python3"
  },
  "language_info": {
   "codemirror_mode": {
    "name": "ipython",
    "version": 3
   },
   "file_extension": ".py",
   "mimetype": "text/x-python",
   "name": "python",
   "nbconvert_exporter": "python",
   "pygments_lexer": "ipython3",
   "version": "3.8.5"
  }
 },
 "nbformat": 4,
 "nbformat_minor": 4
}
