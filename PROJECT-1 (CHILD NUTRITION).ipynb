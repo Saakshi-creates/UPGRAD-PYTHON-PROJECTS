{
 "cells": [
  {
   "cell_type": "markdown",
   "metadata": {},
   "source": [
    "# CHILD NUTRITION #"
   ]
  },
  {
   "cell_type": "markdown",
   "metadata": {},
   "source": [
    "# CHILD NUTRIENT CALCULATOR PROJECT\n",
    "\n",
    "\n",
    "## SAAKSHI SRIVASTAVA\n"
   ]
  },
  {
   "cell_type": "code",
   "execution_count": 1,
   "metadata": {},
   "outputs": [],
   "source": [
    "# BMI FUNCTION\n",
    "\n",
    "def bmi(w,h):\n",
    "    bmi=round(((w/(h**2))*703),2)\n",
    "    return bmi"
   ]
  },
  {
   "cell_type": "markdown",
   "metadata": {},
   "source": [
    "### BELOW CELL IS USED FOR TAKING INPUTS"
   ]
  },
  {
   "cell_type": "code",
   "execution_count": 19,
   "metadata": {},
   "outputs": [
    {
     "name": "stdout",
     "output_type": "stream",
     "text": [
      "Enter Name:Peter Parker\n",
      "Enter Age:7\n",
      "Enter Gender ([M, m] for male, [F, f] for female):m\n",
      "Enter Weight in pounds:60\n",
      "Enter Height in inches:45\n",
      "Age b/w 0-2 years: 800 calories \n",
      "\n",
      "Age b/w 2-4 years: 1400 calories \n",
      "\n",
      "Age b/w 4-8 years: 1800 calories \n",
      "\n",
      "Enter Milk intake in grams: 300\n",
      "Enter Egg intake in grams: 300\n",
      "Enter Rice intake in grams: 300\n",
      "Enter Lentils intake in grams: 100\n",
      "Enter Vegetables intake in grams: 300\n",
      "Enter Meat intake in grams: 200\n"
     ]
    }
   ],
   "source": [
    "# TAKING INPUTS FOR NAME, AGE, GENDER, WEIGHT, HEIGHT\n",
    "\n",
    "name=input(\"Enter Name:\")\n",
    "age=int(input(\"Enter Age:\"))\n",
    "gender=input(\"Enter Gender ([M, m] for male, [F, f] for female):\")\n",
    "weight=float(input(\"Enter Weight in pounds:\"))\n",
    "height=float(input(\"Enter Height in inches:\"))\n",
    "\n",
    "if(gender=='m' or gender=='M'):\n",
    "    g=\"he\"\n",
    "elif(gender=='f' or gender=='F'):\n",
    "    g=\"she\"\n",
    "\n",
    "# BMI CALLING\n",
    "\n",
    "BMI=bmi(weight,height)\n",
    "\n",
    "# DISPLAY MINIMUM DAILY CALORIE INTAKE AS PER AGE\n",
    "\n",
    "print(\"Age b/w 0-2 years: 800 calories \\n\")\n",
    "print(\"Age b/w 2-4 years: 1400 calories \\n\")\n",
    "print(\"Age b/w 4-8 years: 1800 calories \\n\")\n",
    "\n",
    "# FOOD INTAKE INPUT\n",
    "\n",
    "Milk=int(input(\"Enter Milk intake in grams: \"))\n",
    "Egg=int(input(\"Enter Egg intake in grams: \"))\n",
    "Rice=int(input(\"Enter Rice intake in grams: \"))\n",
    "Lentils=int(input(\"Enter Lentils intake in grams: \"))\n",
    "Vegetables=int(input(\"Enter Vegetables intake in grams: \"))\n",
    "Meat=int(input(\"Enter Meat intake in grams: \"))        "
   ]
  },
  {
   "cell_type": "markdown",
   "metadata": {},
   "source": [
    "### BELOW CELL IS USED FOR THE CALCULATIONS, CONDITIONS AND REPRESENTING THE OUTPUT"
   ]
  },
  {
   "cell_type": "code",
   "execution_count": 18,
   "metadata": {},
   "outputs": [
    {
     "name": "stdout",
     "output_type": "stream",
     "text": [
      "BMI of Peter Parker is 20.83 and he is healthy.\n",
      "The daily calorie consumption of Peter Parker is 1809.0 and he is not undernourished.\n"
     ]
    }
   ],
   "source": [
    "# CALORIES CALCULATION TO FIND IF THE CHILD IS NOURISED OR NOT\n",
    "\n",
    "calories= Milk + Egg*(155/100) + Rice*(130/100) + Lentils*(113/100) + Vegetables*(85/100) + Meat*(143/100)\n",
    "\n",
    "# BMI CONDITIONS\n",
    "\n",
    "if(BMI<16):\n",
    "    print(\"BMI of\",name,\"is\",BMI,\"and\",g,\"is severely underweight.\")\n",
    "elif(BMI>=16 and BMI<18.5):\n",
    "    print(\"BMI of\",name,\"is\",BMI,\"and\",g,\"is underweight.\")\n",
    "elif(BMI>=18.5 and BMI<25):\n",
    "    print(\"BMI of\",name,\"is\",BMI,\"and\",g,\"is healthy.\")\n",
    "elif(BMI>=25 and BMI<30):\n",
    "    print(\"BMI of\",name,\"is\",BMI,\"and\",g,\"is overweight.\")\n",
    "else:\n",
    "    print(\"BMI of\",name,\"is\",BMI,\"and\",g,\"is obese.\")\n",
    "    \n",
    "# CALORIE CONSUMPTION\n",
    "\n",
    "if(age>0 and age<2 and calories<800):\n",
    "    print(\"The daily calorie consumption of\",name,\"is\",calories, \"and\",g,\"is undernourished.\")\n",
    "elif(age<2 and calories>=800):\n",
    "    print(\"The daily calorie consumption of\",name,\"is\",calories, \"and\",g,\"is not undernourished.\")\n",
    "elif(age>=2 and age<4 and calories<1400):\n",
    "    print(\"The daily calorie consumption of\",name,\"is\",calories, \"and\",g,\"is undernourished.\")\n",
    "elif(age>=2 and age<4 and calories>=1400):\n",
    "    print(\"The daily calorie consumption of\",name,\"is\",calories, \"and\",g,\"is not undernourished.\")\n",
    "elif(age>=4 and age<=8 and calories<1800):\n",
    "    print(\"The daily calorie consumption of\",name,\"is\",calories, \"and\",g,\"is undernourished.\")\n",
    "elif(age>=4 and age<=8 and calories>=1800):\n",
    "    print(\"The daily calorie consumption of\",name,\"is\",calories, \"and\",g,\"is not undernourished.\")\n"
   ]
  }
 ],
 "metadata": {
  "kernelspec": {
   "display_name": "Python 3",
   "language": "python",
   "name": "python3"
  },
  "language_info": {
   "codemirror_mode": {
    "name": "ipython",
    "version": 3
   },
   "file_extension": ".py",
   "mimetype": "text/x-python",
   "name": "python",
   "nbconvert_exporter": "python",
   "pygments_lexer": "ipython3",
   "version": "3.8.5"
  }
 },
 "nbformat": 4,
 "nbformat_minor": 4
}
